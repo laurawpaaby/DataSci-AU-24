{
 "cells": [
  {
   "cell_type": "markdown",
   "metadata": {},
   "source": [
    "# Brainstorm Exam\n",
    "### Using the Odense Cohorte Data of Language Acquisition in Danish Children"
   ]
  },
  {
   "cell_type": "markdown",
   "metadata": {},
   "source": [
    "- **timeseries** ???\n",
    "- seeing from how early on we can forecast childrens language levels - so subsetting the data, and let the last part of the data be the true values we compare to??\n",
    "- just providing it all data, to see if we can forecast the next step but unsure how its done \n",
    "    - either in classical ways: `ARIMA` or `Exponential Smoothing`\n",
    "    - could be cool in a *LLM* kind of manner, using `iTransformer` or `PatchTST`\n",
    "\n",
    "<br>\n",
    "\n",
    "- **machine learning**\n",
    "- classical ml task of classifying amount of learned language????\n",
    "    - could be `Forrest/Tree models` or `cluster` based\n",
    "    - or `regression style` ML"
   ]
  },
  {
   "cell_type": "markdown",
   "metadata": {},
   "source": [
    "### Data\n",
    "[Dropbox Dataoverview Link](https://www.dropbox.com/sh/py3npjjxhhdtte6/AACPpAOs8pvrDY6Ug8a90H4da?dl=0)\n",
    "\n",
    "**Y, outcome:** \n",
    "- CDI data of acquired language = CDI_forstaar\n",
    "- could again be seperated into quantiative/qualitative subgroups\n",
    "\n",
    "**X, predictors:** \n",
    "- Q1-Q4 - maybe choose if it should be home literacy, socioeconomic etc. or maybe all??? maybe a bit of feature engineering is necessary here ... \n"
   ]
  },
  {
   "cell_type": "markdown",
   "metadata": {},
   "source": [
    "# Practising Time Series w. Transporters"
   ]
  },
  {
   "cell_type": "code",
   "execution_count": 19,
   "metadata": {},
   "outputs": [
    {
     "ename": "ImportError",
     "evalue": "cannot import name 'sym_float' from 'torch' (unknown location)",
     "output_type": "error",
     "traceback": [
      "\u001b[0;31m---------------------------------------------------------------------------\u001b[0m",
      "\u001b[0;31mImportError\u001b[0m                               Traceback (most recent call last)",
      "\u001b[1;32m/work/LauraWulffPaaby#7567/DatSci_24_forked/DataSci-AU-24/nbs/class_07/TIMESERIES_brainstorm.ipynb Cell 5\u001b[0m line \u001b[0;36m4\n\u001b[1;32m      <a href='vscode-notebook-cell://app-5037001-0.cloud.sdu.dk/work/LauraWulffPaaby%237567/DatSci_24_forked/DataSci-AU-24/nbs/class_07/TIMESERIES_brainstorm.ipynb#X11sdnNjb2RlLXJlbW90ZQ%3D%3D?line=1'>2</a>\u001b[0m \u001b[39mimport\u001b[39;00m \u001b[39mpandas\u001b[39;00m \u001b[39mas\u001b[39;00m \u001b[39mpd\u001b[39;00m \n\u001b[1;32m      <a href='vscode-notebook-cell://app-5037001-0.cloud.sdu.dk/work/LauraWulffPaaby%237567/DatSci_24_forked/DataSci-AU-24/nbs/class_07/TIMESERIES_brainstorm.ipynb#X11sdnNjb2RlLXJlbW90ZQ%3D%3D?line=2'>3</a>\u001b[0m \u001b[39mimport\u001b[39;00m \u001b[39mtorch\u001b[39;00m\n\u001b[0;32m----> <a href='vscode-notebook-cell://app-5037001-0.cloud.sdu.dk/work/LauraWulffPaaby%237567/DatSci_24_forked/DataSci-AU-24/nbs/class_07/TIMESERIES_brainstorm.ipynb#X11sdnNjb2RlLXJlbW90ZQ%3D%3D?line=3'>4</a>\u001b[0m \u001b[39mfrom\u001b[39;00m \u001b[39mtorch\u001b[39;00m \u001b[39mimport\u001b[39;00m nn \n",
      "File \u001b[0;32m/work/LauraWulffPaaby#7567/DatSci_24_forked/DataSci-AU-24/venv_dat_sci24/lib/python3.10/site-packages/torch/nn/__init__.py:1\u001b[0m\n\u001b[0;32m----> 1\u001b[0m \u001b[39mfrom\u001b[39;00m \u001b[39m.\u001b[39;00m\u001b[39mmodules\u001b[39;00m \u001b[39mimport\u001b[39;00m \u001b[39m*\u001b[39m  \u001b[39m# noqa: F403\u001b[39;00m\n\u001b[1;32m      2\u001b[0m \u001b[39mfrom\u001b[39;00m \u001b[39m.\u001b[39;00m\u001b[39mparameter\u001b[39;00m \u001b[39mimport\u001b[39;00m (\n\u001b[1;32m      3\u001b[0m     Parameter \u001b[39mas\u001b[39;00m Parameter,\n\u001b[1;32m      4\u001b[0m     UninitializedParameter \u001b[39mas\u001b[39;00m UninitializedParameter,\n\u001b[1;32m      5\u001b[0m     UninitializedBuffer \u001b[39mas\u001b[39;00m UninitializedBuffer,\n\u001b[1;32m      6\u001b[0m )\n\u001b[1;32m      7\u001b[0m \u001b[39mfrom\u001b[39;00m \u001b[39m.\u001b[39;00m\u001b[39mparallel\u001b[39;00m \u001b[39mimport\u001b[39;00m DataParallel \u001b[39mas\u001b[39;00m DataParallel\n",
      "File \u001b[0;32m/work/LauraWulffPaaby#7567/DatSci_24_forked/DataSci-AU-24/venv_dat_sci24/lib/python3.10/site-packages/torch/nn/modules/__init__.py:1\u001b[0m\n\u001b[0;32m----> 1\u001b[0m \u001b[39mfrom\u001b[39;00m \u001b[39m.\u001b[39;00m\u001b[39mmodule\u001b[39;00m \u001b[39mimport\u001b[39;00m Module\n\u001b[1;32m      2\u001b[0m \u001b[39mfrom\u001b[39;00m \u001b[39m.\u001b[39;00m\u001b[39mlinear\u001b[39;00m \u001b[39mimport\u001b[39;00m Identity, Linear, Bilinear, LazyLinear\n\u001b[1;32m      3\u001b[0m \u001b[39mfrom\u001b[39;00m \u001b[39m.\u001b[39;00m\u001b[39mconv\u001b[39;00m \u001b[39mimport\u001b[39;00m Conv1d, Conv2d, Conv3d, \\\n\u001b[1;32m      4\u001b[0m     ConvTranspose1d, ConvTranspose2d, ConvTranspose3d, \\\n\u001b[1;32m      5\u001b[0m     LazyConv1d, LazyConv2d, LazyConv3d, LazyConvTranspose1d, LazyConvTranspose2d, LazyConvTranspose3d\n",
      "File \u001b[0;32m/work/LauraWulffPaaby#7567/DatSci_24_forked/DataSci-AU-24/venv_dat_sci24/lib/python3.10/site-packages/torch/nn/modules/module.py:8\u001b[0m\n\u001b[1;32m      5\u001b[0m \u001b[39mimport\u001b[39;00m \u001b[39mweakref\u001b[39;00m\n\u001b[1;32m      7\u001b[0m \u001b[39mimport\u001b[39;00m \u001b[39mtorch\u001b[39;00m\n\u001b[0;32m----> 8\u001b[0m \u001b[39mfrom\u001b[39;00m \u001b[39mtorch\u001b[39;00m\u001b[39m.\u001b[39;00m\u001b[39m_prims_common\u001b[39;00m \u001b[39mimport\u001b[39;00m DeviceLikeType\n\u001b[1;32m      9\u001b[0m \u001b[39mfrom\u001b[39;00m \u001b[39m.\u001b[39;00m\u001b[39m.\u001b[39;00m\u001b[39mparameter\u001b[39;00m \u001b[39mimport\u001b[39;00m Parameter\n\u001b[1;32m     10\u001b[0m \u001b[39mimport\u001b[39;00m \u001b[39mtorch\u001b[39;00m\u001b[39m.\u001b[39;00m\u001b[39mutils\u001b[39;00m\u001b[39m.\u001b[39;00m\u001b[39mhooks\u001b[39;00m \u001b[39mas\u001b[39;00m \u001b[39mhooks\u001b[39;00m\n",
      "File \u001b[0;32m/work/LauraWulffPaaby#7567/DatSci_24_forked/DataSci-AU-24/venv_dat_sci24/lib/python3.10/site-packages/torch/_prims_common/__init__.py:33\u001b[0m\n\u001b[1;32m     30\u001b[0m     \u001b[39mimport\u001b[39;00m \u001b[39msympy\u001b[39;00m\n\u001b[1;32m     32\u001b[0m \u001b[39mimport\u001b[39;00m \u001b[39mtorch\u001b[39;00m\n\u001b[0;32m---> 33\u001b[0m \u001b[39mfrom\u001b[39;00m \u001b[39mtorch\u001b[39;00m \u001b[39mimport\u001b[39;00m sym_float, sym_int, sym_max\n\u001b[1;32m     36\u001b[0m ShapeType \u001b[39m=\u001b[39m Union[torch\u001b[39m.\u001b[39mSize, List[\u001b[39mint\u001b[39m], Tuple[\u001b[39mint\u001b[39m, \u001b[39m.\u001b[39m\u001b[39m.\u001b[39m\u001b[39m.\u001b[39m]]\n\u001b[1;32m     37\u001b[0m StrideType \u001b[39m=\u001b[39m Union[List[\u001b[39mint\u001b[39m], Tuple[\u001b[39mint\u001b[39m, \u001b[39m.\u001b[39m\u001b[39m.\u001b[39m\u001b[39m.\u001b[39m]]\n",
      "\u001b[0;31mImportError\u001b[0m: cannot import name 'sym_float' from 'torch' (unknown location)"
     ]
    }
   ],
   "source": [
    "import numpy as np\n",
    "import pandas as pd \n",
    "import torch\n",
    "from torch import nn "
   ]
  },
  {
   "cell_type": "code",
   "execution_count": null,
   "metadata": {},
   "outputs": [],
   "source": [
    "from torch.utils.data import DataLoader, TensorDataset\n",
    "from sklearn.preprocessing import StandardScaler\n",
    "from torch.optim.lr_scheduler import ReduceLROnPlateau "
   ]
  },
  {
   "cell_type": "code",
   "execution_count": null,
   "metadata": {},
   "outputs": [],
   "source": []
  }
 ],
 "metadata": {
  "kernelspec": {
   "display_name": "venv_dat_sci24",
   "language": "python",
   "name": "venv_dat_sci24"
  },
  "language_info": {
   "codemirror_mode": {
    "name": "ipython",
    "version": 3
   },
   "file_extension": ".py",
   "mimetype": "text/x-python",
   "name": "python",
   "nbconvert_exporter": "python",
   "pygments_lexer": "ipython3",
   "version": "3.10.12"
  }
 },
 "nbformat": 4,
 "nbformat_minor": 2
}
